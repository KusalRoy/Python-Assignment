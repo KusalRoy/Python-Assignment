{
  "nbformat": 4,
  "nbformat_minor": 0,
  "metadata": {
    "colab": {
      "provenance": []
    },
    "kernelspec": {
      "name": "python3",
      "display_name": "Python 3"
    },
    "language_info": {
      "name": "python"
    }
  },
  "cells": [
    {
      "cell_type": "markdown",
      "source": [
        "# Pyhton theoritical Question & Answers"
      ],
      "metadata": {
        "id": "8K_CWs665yTO"
      }
    },
    {
      "cell_type": "code",
      "source": [],
      "metadata": {
        "id": "z-Jpr10P50a1"
      },
      "execution_count": null,
      "outputs": []
    },
    {
      "cell_type": "markdown",
      "source": [
        "1. What is Python, and why is it popular?\n",
        "\n",
        "     - Python is a interpreted programming\n",
        "       language. It is very simple to execute & read & understand .\n",
        "       It is popular due to its various libraries, easy access & versatality.\n",
        "\n",
        "\n",
        "2. What is an interpreter in Python?\n",
        "\n",
        "     -  An interpreter runs code line by line. In Python, it works as a translator so that system can understand command.\n",
        "\n",
        "3. What are pre-defined keywords in Python?\n",
        "\n",
        "     - Pre defined key words are- if, else, while, for, def.\n",
        "\n",
        "4. Can keywords be used as variable names?\n",
        "\n",
        "     - No, those can't be used as variable names.\n",
        "\n",
        "5. What is mutability in Python?\n",
        "\n",
        "     -  Mutability defines if an object can be changed or not, while created.\n",
        "\n",
        "6. Why are lists mutable, but tuples are immutable?\n",
        "\n",
        "     - lists are created to be changed accordingly, like dynamic way. Whereas tuples are fixed and use to store data.\n",
        "\n",
        "7. What is the difference between == and is operators in Python?\n",
        "     - == checks wheather 2 values are equal or not. Wheather is verifies identity.\n",
        "\n",
        "8. What are logical operators in Python?\n",
        "\n",
        "     - Logical operators in Pyhton are - and, or & not\n",
        "\n",
        "9. What is type casting in Python?\n",
        "\n",
        "     - Type casting is conversion of one data type into another variable from one type to another.\n",
        "\n",
        "10. What is the difference between implicit and explicit type casting?\n",
        "\n",
        "     - Implicit type of casting is prformed by Python\n",
        "       only.\n",
        "         whereas\n",
        "\n",
        "       Explicit type of casting is performed by the user itself.\n",
        "\n",
        "11. What is the purpose of conditional statements in   Python?\n",
        "     - Conditional statements are used to run codes based on conditions.\n",
        "\n",
        "12. How does the elif statement work?\n",
        "\n",
        "     - elif or else if helps checking multiple conditions.\n",
        "\n",
        "13. What is the difference between for and while loops?\n",
        "\n",
        "     - We uuse for when we know the number of repetitions.\n",
        "\n",
        "       And while loop is used when we are unaware of the repetitons and the code runs until it false.\n",
        "\n",
        "14. Describe a scenario where a while loop is more suitable than a for loop.\n",
        "     - where a number of repetitions are unknown such as when we are entering wrong password and it keeps on giving fasle message."
      ],
      "metadata": {
        "id": "J3rfTUd351F1"
      }
    },
    {
      "cell_type": "code",
      "source": [
        "1.\n",
        "  print(\"Hello, World!\")\n",
        "2.\n",
        "  name = \"Kusal\"\n",
        "  age = 28\n",
        "  print(\"Name:\", Name)\n",
        "  print(\"Age:\", Age)\n",
        "3.\n",
        "  import keyword\n",
        "  print(\"Python Keywords:\")\n",
        "  print(keyword.keywordlist)\n",
        "4.\n",
        "  import keyword\n",
        "  word = input(\"Enter a word: \")\n",
        "   if keyword.iskeyword(word):\n",
        "    print(f\"'{word}' is a Python keyword.\")\n",
        "   else:\n",
        "    print(f\"'{word}' is not a Python keyword.\")\n",
        "7.\n",
        "   a = int(input(\"Enter first number: \"))\n",
        "   b = int(input(\"Enter second number: \"))\n",
        "   print(\"Sum:\", a + b)\n",
        "   print(\"Difference:\", a - b)\n",
        "   print(\"Product:\", a * b)\n",
        "   print(\"Divide:\", a / b)\n",
        "8.\n",
        "   x = 7\n",
        "   y = 14\n",
        "   print(x > 5 and y > 9)       # True\n",
        "   print(x < 5 or y > 9 )       # True\n",
        "   print(not(x > 5))            # False\n",
        "9.\n",
        "   s = input(\"Enter a number: \")\n",
        "   i = int(s)\n",
        "   f = int(f)\n",
        "   b = bool(s)\n",
        "   print(i, f, b)\n",
        "10.\n",
        "   str_list = [\"1\", \"2\", \"3\"]\n",
        "   int_list = [int(x) for x in str_list]\n",
        "   print(int_list)\n",
        "11.\n",
        "   n= float(input(\"Enter a number: \"))\n",
        "   if n > 0:\n",
        "    print(\"Positive\")\n",
        "   else if n < 0:\n",
        "    print(\"Negative\")\n",
        "   else:\n",
        "    print(\"Zero\")\n",
        "12.\n",
        "    for i in range(1, 11):\n",
        "    print(i)\n",
        "13.\n",
        "    total = 0\n",
        "     for i in range(2, 51, 2):\n",
        "    total += i\n",
        "    print(\"Sum of even numbers from 1 to 50:\", total)"
      ],
      "metadata": {
        "colab": {
          "base_uri": "https://localhost:8080/",
          "height": 106
        },
        "id": "xdLlfxZoHWiH",
        "outputId": "c21aeba0-9497-40e9-fac9-d427358a3e65"
      },
      "execution_count": 3,
      "outputs": [
        {
          "output_type": "error",
          "ename": "IndentationError",
          "evalue": "unexpected indent (<ipython-input-3-34f58ac884fb>, line 2)",
          "traceback": [
            "\u001b[0;36m  File \u001b[0;32m\"<ipython-input-3-34f58ac884fb>\"\u001b[0;36m, line \u001b[0;32m2\u001b[0m\n\u001b[0;31m    print(\"Hello, World!\")\u001b[0m\n\u001b[0m    ^\u001b[0m\n\u001b[0;31mIndentationError\u001b[0m\u001b[0;31m:\u001b[0m unexpected indent\n"
          ]
        }
      ]
    },
    {
      "cell_type": "code",
      "source": [],
      "metadata": {
        "id": "7ydFKWXlYSUQ"
      },
      "execution_count": null,
      "outputs": []
    }
  ]
}